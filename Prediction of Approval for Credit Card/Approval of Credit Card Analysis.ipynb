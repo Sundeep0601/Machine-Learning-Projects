{
 "cells": [
  {
   "cell_type": "code",
   "execution_count": 3,
   "id": "52475fb6",
   "metadata": {},
   "outputs": [
    {
     "name": "stdout",
     "output_type": "stream",
     "text": [
      "   b  30.83      0  u  g  w  v  1.25  t t.1  01  f g.1  00202  0.1  +\n",
      "0  a  58.67  4.460  u  g  q  h  3.04  t   t   6  f   g  00043  560  +\n",
      "1  a  24.50  0.500  u  g  q  h  1.50  t   f   0  f   g  00280  824  +\n",
      "2  b  27.83  1.540  u  g  w  v  3.75  t   t   5  t   g  00100    3  +\n",
      "3  b  20.17  5.625  u  g  w  v  1.71  t   f   0  f   s  00120    0  +\n",
      "4  b  32.08  4.000  u  g  m  v  2.50  t   f   0  t   g  00360    0  +\n"
     ]
    }
   ],
   "source": [
    "import pandas as pd\n",
    "cc_apps = pd.read_csv(\"S:\\Projects\\SD\\Credit Card Fraud Detection\\cc_approvals.data\")\n",
    "print(cc_apps.head())"
   ]
  },
  {
   "cell_type": "code",
   "execution_count": 4,
   "id": "d59fa89f",
   "metadata": {},
   "outputs": [
    {
     "name": "stdout",
     "output_type": "stream",
     "text": [
      "                0        1.25          01            0.1\n",
      "count  689.000000  689.000000  689.000000     689.000000\n",
      "mean     4.765631    2.224819    2.402032    1018.862119\n",
      "std      4.978470    3.348739    4.866180    5213.743149\n",
      "min      0.000000    0.000000    0.000000       0.000000\n",
      "25%      1.000000    0.165000    0.000000       0.000000\n",
      "50%      2.750000    1.000000    0.000000       5.000000\n",
      "75%      7.250000    2.625000    3.000000     396.000000\n",
      "max     28.000000   28.500000   67.000000  100000.000000\n",
      "\n",
      "\n",
      "<class 'pandas.core.frame.DataFrame'>\n",
      "RangeIndex: 689 entries, 0 to 688\n",
      "Data columns (total 16 columns):\n",
      " #   Column  Non-Null Count  Dtype  \n",
      "---  ------  --------------  -----  \n",
      " 0   b       689 non-null    object \n",
      " 1   30.83   689 non-null    object \n",
      " 2   0       689 non-null    float64\n",
      " 3   u       689 non-null    object \n",
      " 4   g       689 non-null    object \n",
      " 5   w       689 non-null    object \n",
      " 6   v       689 non-null    object \n",
      " 7   1.25    689 non-null    float64\n",
      " 8   t       689 non-null    object \n",
      " 9   t.1     689 non-null    object \n",
      " 10  01      689 non-null    int64  \n",
      " 11  f       689 non-null    object \n",
      " 12  g.1     689 non-null    object \n",
      " 13  00202   689 non-null    object \n",
      " 14  0.1     689 non-null    int64  \n",
      " 15  +       689 non-null    object \n",
      "dtypes: float64(2), int64(2), object(12)\n",
      "memory usage: 86.2+ KB\n",
      "None\n",
      "\n",
      "\n",
      "     b  30.83       0  u  g   w   v   1.25  t t.1  01  f g.1  00202  0.1  +\n",
      "672  ?  29.50   2.000  y  p   e   h  2.000  f   f   0  f   g  00256   17  -\n",
      "673  a  37.33   2.500  u  g   i   h  0.210  f   f   0  f   g  00260  246  -\n",
      "674  a  41.58   1.040  u  g  aa   v  0.665  f   f   0  f   g  00240  237  -\n",
      "675  a  30.58  10.665  u  g   q   h  0.085  f   t  12  t   g  00129    3  -\n",
      "676  b  19.42   7.250  u  g   m   v  0.040  f   t   1  f   g  00100    1  -\n",
      "677  a  17.92  10.210  u  g  ff  ff  0.000  f   f   0  f   g  00000   50  -\n",
      "678  a  20.08   1.250  u  g   c   v  0.000  f   f   0  f   g  00000    0  -\n",
      "679  b  19.50   0.290  u  g   k   v  0.290  f   f   0  f   g  00280  364  -\n",
      "680  b  27.83   1.000  y  p   d   h  3.000  f   f   0  f   g  00176  537  -\n",
      "681  b  17.08   3.290  u  g   i   v  0.335  f   f   0  t   g  00140    2  -\n",
      "682  b  36.42   0.750  y  p   d   v  0.585  f   f   0  f   g  00240    3  -\n",
      "683  b  40.58   3.290  u  g   m   v  3.500  f   f   0  t   s  00400    0  -\n",
      "684  b  21.08  10.085  y  p   e   h  1.250  f   f   0  f   g  00260    0  -\n",
      "685  a  22.67   0.750  u  g   c   v  2.000  f   t   2  t   g  00200  394  -\n",
      "686  a  25.25  13.500  y  p  ff  ff  2.000  f   t   1  t   g  00200    1  -\n",
      "687  b  17.92   0.205  u  g  aa   v  0.040  f   f   0  f   g  00280  750  -\n",
      "688  b  35.00   3.375  u  g   c   h  8.290  f   f   0  t   g  00000    0  -\n"
     ]
    }
   ],
   "source": [
    "cc_apps_description = cc_apps.describe()\n",
    "print(cc_apps_description)\n",
    "\n",
    "print(\"\\n\")\n",
    "\n",
    "# Printing DataFrame information\n",
    "cc_apps_info = cc_apps.info()\n",
    "print(cc_apps_info)\n",
    "\n",
    "print(\"\\n\")\n",
    "\n",
    "# Inspecting the missing values in the dataset\n",
    "print(cc_apps.tail(17))"
   ]
  },
  {
   "cell_type": "code",
   "execution_count": 5,
   "id": "b8996c5d",
   "metadata": {},
   "outputs": [
    {
     "name": "stdout",
     "output_type": "stream",
     "text": [
      "     b  30.83       0  u  g   w   v   1.25  t t.1  01  f g.1  00202  0.1  +\n",
      "672  ?  29.50   2.000  y  p   e   h  2.000  f   f   0  f   g  00256   17  -\n",
      "673  a  37.33   2.500  u  g   i   h  0.210  f   f   0  f   g  00260  246  -\n",
      "674  a  41.58   1.040  u  g  aa   v  0.665  f   f   0  f   g  00240  237  -\n",
      "675  a  30.58  10.665  u  g   q   h  0.085  f   t  12  t   g  00129    3  -\n",
      "676  b  19.42   7.250  u  g   m   v  0.040  f   t   1  f   g  00100    1  -\n",
      "677  a  17.92  10.210  u  g  ff  ff  0.000  f   f   0  f   g  00000   50  -\n",
      "678  a  20.08   1.250  u  g   c   v  0.000  f   f   0  f   g  00000    0  -\n",
      "679  b  19.50   0.290  u  g   k   v  0.290  f   f   0  f   g  00280  364  -\n",
      "680  b  27.83   1.000  y  p   d   h  3.000  f   f   0  f   g  00176  537  -\n",
      "681  b  17.08   3.290  u  g   i   v  0.335  f   f   0  t   g  00140    2  -\n",
      "682  b  36.42   0.750  y  p   d   v  0.585  f   f   0  f   g  00240    3  -\n",
      "683  b  40.58   3.290  u  g   m   v  3.500  f   f   0  t   s  00400    0  -\n",
      "684  b  21.08  10.085  y  p   e   h  1.250  f   f   0  f   g  00260    0  -\n",
      "685  a  22.67   0.750  u  g   c   v  2.000  f   t   2  t   g  00200  394  -\n",
      "686  a  25.25  13.500  y  p  ff  ff  2.000  f   t   1  t   g  00200    1  -\n",
      "687  b  17.92   0.205  u  g  aa   v  0.040  f   f   0  f   g  00280  750  -\n",
      "688  b  35.00   3.375  u  g   c   h  8.290  f   f   0  t   g  00000    0  -\n",
      "       b  30.83       0  u  g   w   v   1.25  t t.1  01  f g.1  00202  0.1  +\n",
      "672  NaN  29.50   2.000  y  p   e   h  2.000  f   f   0  f   g  00256   17  -\n",
      "673    a  37.33   2.500  u  g   i   h  0.210  f   f   0  f   g  00260  246  -\n",
      "674    a  41.58   1.040  u  g  aa   v  0.665  f   f   0  f   g  00240  237  -\n",
      "675    a  30.58  10.665  u  g   q   h  0.085  f   t  12  t   g  00129    3  -\n",
      "676    b  19.42   7.250  u  g   m   v  0.040  f   t   1  f   g  00100    1  -\n",
      "677    a  17.92  10.210  u  g  ff  ff  0.000  f   f   0  f   g  00000   50  -\n",
      "678    a  20.08   1.250  u  g   c   v  0.000  f   f   0  f   g  00000    0  -\n",
      "679    b  19.50   0.290  u  g   k   v  0.290  f   f   0  f   g  00280  364  -\n",
      "680    b  27.83   1.000  y  p   d   h  3.000  f   f   0  f   g  00176  537  -\n",
      "681    b  17.08   3.290  u  g   i   v  0.335  f   f   0  t   g  00140    2  -\n",
      "682    b  36.42   0.750  y  p   d   v  0.585  f   f   0  f   g  00240    3  -\n",
      "683    b  40.58   3.290  u  g   m   v  3.500  f   f   0  t   s  00400    0  -\n",
      "684    b  21.08  10.085  y  p   e   h  1.250  f   f   0  f   g  00260    0  -\n",
      "685    a  22.67   0.750  u  g   c   v  2.000  f   t   2  t   g  00200  394  -\n",
      "686    a  25.25  13.500  y  p  ff  ff  2.000  f   t   1  t   g  00200    1  -\n",
      "687    b  17.92   0.205  u  g  aa   v  0.040  f   f   0  f   g  00280  750  -\n",
      "688    b  35.00   3.375  u  g   c   h  8.290  f   f   0  t   g  00000    0  -\n"
     ]
    }
   ],
   "source": [
    "import numpy as np\n",
    "\n",
    "# Inspecting the missing values in the dataset\n",
    "print(cc_apps.tail(17))\n",
    "\n",
    "# Replace the '?'s with NaN\n",
    "cc_apps = cc_apps.replace('?',np.NaN)\n",
    "\n",
    "# Inspecting the missing values again\n",
    "print(cc_apps.tail(17))"
   ]
  },
  {
   "cell_type": "code",
   "execution_count": 6,
   "id": "b08332a9",
   "metadata": {},
   "outputs": [
    {
     "name": "stdout",
     "output_type": "stream",
     "text": [
      "0       1\n",
      "1.25    1\n",
      "01      1\n",
      "0.1     1\n",
      "dtype: int64\n"
     ]
    }
   ],
   "source": [
    "# assighning the missing values with mean imputation\n",
    "\n",
    "for i in [2,7,10,14]:\n",
    "    cc_apps.iloc[:,i].fillna(np.mean(cc_apps.iloc[:,i]),inplace=True)\n",
    "\n",
    "# Counting the number of NaNs in the dataset to verify\n",
    "print(cc_apps.iloc[:,[2,7,10,14]].isna().nunique())"
   ]
  },
  {
   "cell_type": "code",
   "execution_count": 11,
   "id": "7c7c853c",
   "metadata": {},
   "outputs": [
    {
     "name": "stdout",
     "output_type": "stream",
     "text": [
      "b        0\n",
      "30.83    0\n",
      "0        0\n",
      "u        0\n",
      "g        0\n",
      "w        0\n",
      "v        0\n",
      "1.25     0\n",
      "t        0\n",
      "t.1      0\n",
      "01       0\n",
      "f        0\n",
      "g.1      0\n",
      "00202    0\n",
      "0.1      0\n",
      "+        0\n",
      "dtype: int64\n"
     ]
    }
   ],
   "source": [
    "columns_to_check = [0, 1, 3, 4, 5, 6, 13]\n",
    "for col in columns_to_check:\n",
    "    # Ensure the column index is within the bounds of the dataset\n",
    "    if col < len(cc_apps.columns):\n",
    "# Checking if the column is of object type\n",
    "        if cc_apps.iloc[:, col].dtype == 'object':\n",
    "            most_frequent_value = cc_apps.iloc[:, col].value_counts().idxmax()\n",
    "            cc_apps.iloc[:, col] = cc_apps.iloc[:, col].fillna(most_frequent_value)\n",
    "# Counting the number of NaNs in the dataset and print the counts to verify\n",
    "print(cc_apps.isna().sum())"
   ]
  },
  {
   "cell_type": "code",
   "execution_count": 14,
   "id": "d8ed661f",
   "metadata": {},
   "outputs": [],
   "source": [
    "from sklearn.preprocessing import LabelEncoder\n",
    "le = LabelEncoder()\n",
    "for col in cc_apps.columns:\n",
    "# Comparing if the dtype is object or not\n",
    "    if cc_apps[col].dtypes=='object':\n",
    "        cc_apps[col]=le.fit_transform(cc_apps[col])"
   ]
  },
  {
   "cell_type": "code",
   "execution_count": 15,
   "id": "0af414c4",
   "metadata": {},
   "outputs": [],
   "source": [
    "from sklearn.preprocessing import MinMaxScaler\n",
    "cc_apps = cc_apps.drop(cc_apps.iloc[:,[11, 13]], axis=1)\n",
    "cc_apps = cc_apps.values\n",
    "X,y = cc_apps[:,0:-1] , cc_apps[:,-1]\n",
    "scaler = MinMaxScaler(feature_range=(0, 1))\n",
    "rescaledX = scaler.fit_transform(X)"
   ]
  },
  {
   "cell_type": "code",
   "execution_count": 16,
   "id": "f6d2fd6a",
   "metadata": {},
   "outputs": [],
   "source": [
    "from sklearn.model_selection import train_test_split\n",
    "X_train, X_test, y_train, y_test = train_test_split(rescaledX,y, test_size=.33,random_state=42)"
   ]
  },
  {
   "cell_type": "code",
   "execution_count": 21,
   "id": "f6d0c888",
   "metadata": {},
   "outputs": [
    {
     "name": "stderr",
     "output_type": "stream",
     "text": [
      "C:\\ProgramData\\Anaconda3\\lib\\site-packages\\sklearn\\linear_model\\_logistic.py:814: ConvergenceWarning: lbfgs failed to converge (status=1):\n",
      "STOP: TOTAL NO. of ITERATIONS REACHED LIMIT.\n",
      "\n",
      "Increase the number of iterations (max_iter) or scale the data as shown in:\n",
      "    https://scikit-learn.org/stable/modules/preprocessing.html\n",
      "Please also refer to the documentation for alternative solver options:\n",
      "    https://scikit-learn.org/stable/modules/linear_model.html#logistic-regression\n",
      "  n_iter_i = _check_optimize_result(\n"
     ]
    },
    {
     "data": {
      "text/plain": [
       "LogisticRegression()"
      ]
     },
     "execution_count": 21,
     "metadata": {},
     "output_type": "execute_result"
    }
   ],
   "source": [
    "from sklearn.linear_model import LogisticRegression\n",
    "# Applying a LogisticRegression classifier with default parameter values\n",
    "logreg = LogisticRegression()\n",
    "logreg.fit(X,y)"
   ]
  },
  {
   "cell_type": "code",
   "execution_count": 18,
   "id": "38acb1d7",
   "metadata": {},
   "outputs": [
    {
     "name": "stdout",
     "output_type": "stream",
     "text": [
      "Accuracy of logistic regression classifier:  Ellipsis\n",
      "[[ 90  10]\n",
      " [ 26 102]]\n"
     ]
    }
   ],
   "source": [
    "from sklearn.metrics import confusion_matrix\n",
    "# Useing logreg to predict instances from the test set and store it\n",
    "y_pred = logreg.predict(X_test)\n",
    "print(\"Accuracy of logistic regression classifier: \", ...)\n",
    "print(confusion_matrix(y_test,y_pred))"
   ]
  },
  {
   "cell_type": "code",
   "execution_count": 19,
   "id": "f07bc8ce",
   "metadata": {},
   "outputs": [],
   "source": [
    "from sklearn.model_selection import GridSearchCV\n",
    "tol = [.01,.001,.0001]\n",
    "max_iter = [100,150,200]\n",
    "param_grid = {'tol':tol,'max_iter':max_iter}"
   ]
  },
  {
   "cell_type": "code",
   "execution_count": 20,
   "id": "1d7cd6ae",
   "metadata": {},
   "outputs": [
    {
     "name": "stdout",
     "output_type": "stream",
     "text": [
      "Best: 0.850629 using {'max_iter': 100, 'tol': 0.01}\n"
     ]
    }
   ],
   "source": [
    "grid_model = GridSearchCV(estimator=logreg, param_grid=param_grid, cv=5)\n",
    "# Fit a data to grid_model\n",
    "grid_model_result = grid_model.fit(rescaledX, y)\n",
    "# Summarizing the final results\n",
    "best_score, best_params = grid_model_result.best_score_,grid_model_result.best_params_\n",
    "print(\"Best: %f using %s\" % (best_score, best_params))"
   ]
  },
  {
   "cell_type": "code",
   "execution_count": null,
   "id": "bf0e9889",
   "metadata": {},
   "outputs": [],
   "source": []
  }
 ],
 "metadata": {
  "kernelspec": {
   "display_name": "Python 3 (ipykernel)",
   "language": "python",
   "name": "python3"
  },
  "language_info": {
   "codemirror_mode": {
    "name": "ipython",
    "version": 3
   },
   "file_extension": ".py",
   "mimetype": "text/x-python",
   "name": "python",
   "nbconvert_exporter": "python",
   "pygments_lexer": "ipython3",
   "version": "3.9.13"
  }
 },
 "nbformat": 4,
 "nbformat_minor": 5
}
